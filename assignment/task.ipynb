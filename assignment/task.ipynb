{
 "cells": [
  {
   "cell_type": "markdown",
   "id": "b1811cdf",
   "metadata": {},
   "source": [
    "# pip in install numpy, panda\n",
    "# import the library"
   ]
  },
  {
   "cell_type": "code",
   "execution_count": 1,
   "id": "fd10ca43",
   "metadata": {},
   "outputs": [],
   "source": [
    "import pandas as pd\n",
    "import numpy as np\n"
   ]
  },
  {
   "cell_type": "markdown",
   "id": "4f3e68ad",
   "metadata": {},
   "source": [
    "READ DATA INTO NOTEBOOK"
   ]
  },
  {
   "cell_type": "code",
   "execution_count": 2,
   "id": "b477f063",
   "metadata": {},
   "outputs": [],
   "source": [
    "product = pd.read_csv(\"2022_02_08-02_30_31_AM.csv\")"
   ]
  },
  {
   "cell_type": "markdown",
   "id": "2123f56f",
   "metadata": {},
   "source": [
    "CHECK THE HEAD OF THE DATA"
   ]
  },
  {
   "cell_type": "code",
   "execution_count": 3,
   "id": "6b53aae7",
   "metadata": {
    "scrolled": true
   },
   "outputs": [
    {
     "data": {
      "text/html": [
       "<div>\n",
       "<style scoped>\n",
       "    .dataframe tbody tr th:only-of-type {\n",
       "        vertical-align: middle;\n",
       "    }\n",
       "\n",
       "    .dataframe tbody tr th {\n",
       "        vertical-align: top;\n",
       "    }\n",
       "\n",
       "    .dataframe thead th {\n",
       "        text-align: right;\n",
       "    }\n",
       "</style>\n",
       "<table border=\"1\" class=\"dataframe\">\n",
       "  <thead>\n",
       "    <tr style=\"text-align: right;\">\n",
       "      <th></th>\n",
       "      <th>uuid</th>\n",
       "      <th>price_string</th>\n",
       "      <th>price_string_unf</th>\n",
       "      <th>product_type</th>\n",
       "      <th>level_1</th>\n",
       "      <th>category</th>\n",
       "    </tr>\n",
       "  </thead>\n",
       "  <tbody>\n",
       "    <tr>\n",
       "      <th>0</th>\n",
       "      <td>638744a4-b0ae-4166-8cb6-5c063c862036</td>\n",
       "      <td>NaN</td>\n",
       "      <td>NaN</td>\n",
       "      <td>TGFwdG9wIENvdmVycy9CYWdz</td>\n",
       "      <td>TGFwdG9wIENhc2U</td>\n",
       "      <td>RWxlY3Ryb25pY3M</td>\n",
       "    </tr>\n",
       "    <tr>\n",
       "      <th>1</th>\n",
       "      <td>ab313969-02cc-48b2-9daf-0054efb70b92</td>\n",
       "      <td>NaN</td>\n",
       "      <td>NaN</td>\n",
       "      <td>QmFraW5nIEN1cHMgYW5kIE1hdHM</td>\n",
       "      <td>QmFraW5nIE1hdHMgLyBCYWtpbmcgZGlzaA</td>\n",
       "      <td>a2l0Y2hpbmcgYW5kIGRpbmluZw</td>\n",
       "    </tr>\n",
       "    <tr>\n",
       "      <th>2</th>\n",
       "      <td>acbd66ff-79f8-467a-91f9-108a45af5626</td>\n",
       "      <td>$19.95</td>\n",
       "      <td>NaN</td>\n",
       "      <td>R3VtbWllcyB2aXRhbWlucyBhbmQgbWluZXJhbHMgZm9yIG...</td>\n",
       "      <td>SW1tdW5pdHkgZ3VtbWllcw</td>\n",
       "      <td>SGVhbHRo</td>\n",
       "    </tr>\n",
       "    <tr>\n",
       "      <th>3</th>\n",
       "      <td>963915d6-b2e3-4098-b242-9410593cf205</td>\n",
       "      <td>$92.00</td>\n",
       "      <td>NaN</td>\n",
       "      <td>U2VydW1z</td>\n",
       "      <td>RmFjZSBTZXJ1bQ</td>\n",
       "      <td>YmVhdXR5IGFuZCBwZXJzb25hbCBjYXJl</td>\n",
       "    </tr>\n",
       "    <tr>\n",
       "      <th>4</th>\n",
       "      <td>b5b68f3c-b1e0-40e5-8ee5-e2f7236c1daf</td>\n",
       "      <td>11.50</td>\n",
       "      <td>NaN</td>\n",
       "      <td>RWF0aW5nIFV0ZW5zaWxzL0N1dGxlcnk</td>\n",
       "      <td>Q2hvcHN0aWNrcw</td>\n",
       "      <td>a2l0Y2hpbmcgYW5kIGRpbmluZw</td>\n",
       "    </tr>\n",
       "  </tbody>\n",
       "</table>\n",
       "</div>"
      ],
      "text/plain": [
       "                                   uuid price_string price_string_unf  \\\n",
       "0  638744a4-b0ae-4166-8cb6-5c063c862036          NaN              NaN   \n",
       "1  ab313969-02cc-48b2-9daf-0054efb70b92          NaN              NaN   \n",
       "2  acbd66ff-79f8-467a-91f9-108a45af5626       $19.95              NaN   \n",
       "3  963915d6-b2e3-4098-b242-9410593cf205       $92.00              NaN   \n",
       "4  b5b68f3c-b1e0-40e5-8ee5-e2f7236c1daf        11.50              NaN   \n",
       "\n",
       "                                        product_type  \\\n",
       "0                           TGFwdG9wIENvdmVycy9CYWdz   \n",
       "1                        QmFraW5nIEN1cHMgYW5kIE1hdHM   \n",
       "2  R3VtbWllcyB2aXRhbWlucyBhbmQgbWluZXJhbHMgZm9yIG...   \n",
       "3                                           U2VydW1z   \n",
       "4                    RWF0aW5nIFV0ZW5zaWxzL0N1dGxlcnk   \n",
       "\n",
       "                              level_1                          category  \n",
       "0                     TGFwdG9wIENhc2U                   RWxlY3Ryb25pY3M  \n",
       "1  QmFraW5nIE1hdHMgLyBCYWtpbmcgZGlzaA        a2l0Y2hpbmcgYW5kIGRpbmluZw  \n",
       "2              SW1tdW5pdHkgZ3VtbWllcw                          SGVhbHRo  \n",
       "3                      RmFjZSBTZXJ1bQ  YmVhdXR5IGFuZCBwZXJzb25hbCBjYXJl  \n",
       "4                      Q2hvcHN0aWNrcw        a2l0Y2hpbmcgYW5kIGRpbmluZw  "
      ]
     },
     "execution_count": 3,
     "metadata": {},
     "output_type": "execute_result"
    }
   ],
   "source": [
    "product.head()"
   ]
  },
  {
   "cell_type": "markdown",
   "id": "ef1b6537",
   "metadata": {},
   "source": [
    "CHECK THE DESCRIPTION AND INFO OF THE DATA"
   ]
  },
  {
   "cell_type": "code",
   "execution_count": 4,
   "id": "27043be9",
   "metadata": {},
   "outputs": [
    {
     "data": {
      "text/html": [
       "<div>\n",
       "<style scoped>\n",
       "    .dataframe tbody tr th:only-of-type {\n",
       "        vertical-align: middle;\n",
       "    }\n",
       "\n",
       "    .dataframe tbody tr th {\n",
       "        vertical-align: top;\n",
       "    }\n",
       "\n",
       "    .dataframe thead th {\n",
       "        text-align: right;\n",
       "    }\n",
       "</style>\n",
       "<table border=\"1\" class=\"dataframe\">\n",
       "  <thead>\n",
       "    <tr style=\"text-align: right;\">\n",
       "      <th></th>\n",
       "      <th>uuid</th>\n",
       "      <th>price_string</th>\n",
       "      <th>price_string_unf</th>\n",
       "      <th>product_type</th>\n",
       "      <th>level_1</th>\n",
       "      <th>category</th>\n",
       "    </tr>\n",
       "  </thead>\n",
       "  <tbody>\n",
       "    <tr>\n",
       "      <th>count</th>\n",
       "      <td>11764550</td>\n",
       "      <td>4721109</td>\n",
       "      <td>265799</td>\n",
       "      <td>11755974</td>\n",
       "      <td>11721664</td>\n",
       "      <td>11755974</td>\n",
       "    </tr>\n",
       "    <tr>\n",
       "      <th>unique</th>\n",
       "      <td>1374</td>\n",
       "      <td>248</td>\n",
       "      <td>26</td>\n",
       "      <td>321</td>\n",
       "      <td>595</td>\n",
       "      <td>13</td>\n",
       "    </tr>\n",
       "    <tr>\n",
       "      <th>top</th>\n",
       "      <td>bcfcacea-ff2b-487f-a681-7e0324938a2b</td>\n",
       "      <td>$0.00</td>\n",
       "      <td>$6.75</td>\n",
       "      <td>U2NydWJzIGFuZCBjbGVhbmluZyBjbG90aHM</td>\n",
       "      <td>U3dlYXRzaGlydA</td>\n",
       "      <td>Q2xvdGhpbmcgYW5kIEFjY2Vzc29yaWVz</td>\n",
       "    </tr>\n",
       "    <tr>\n",
       "      <th>freq</th>\n",
       "      <td>8682</td>\n",
       "      <td>205586</td>\n",
       "      <td>25719</td>\n",
       "      <td>171470</td>\n",
       "      <td>77050</td>\n",
       "      <td>3351072</td>\n",
       "    </tr>\n",
       "  </tbody>\n",
       "</table>\n",
       "</div>"
      ],
      "text/plain": [
       "                                        uuid price_string price_string_unf  \\\n",
       "count                               11764550      4721109           265799   \n",
       "unique                                  1374          248               26   \n",
       "top     bcfcacea-ff2b-487f-a681-7e0324938a2b        $0.00            $6.75   \n",
       "freq                                    8682       205586            25719   \n",
       "\n",
       "                               product_type         level_1  \\\n",
       "count                              11755974        11721664   \n",
       "unique                                  321             595   \n",
       "top     U2NydWJzIGFuZCBjbGVhbmluZyBjbG90aHM  U3dlYXRzaGlydA   \n",
       "freq                                 171470           77050   \n",
       "\n",
       "                                category  \n",
       "count                           11755974  \n",
       "unique                                13  \n",
       "top     Q2xvdGhpbmcgYW5kIEFjY2Vzc29yaWVz  \n",
       "freq                             3351072  "
      ]
     },
     "execution_count": 4,
     "metadata": {},
     "output_type": "execute_result"
    }
   ],
   "source": [
    "product.describe()"
   ]
  },
  {
   "cell_type": "code",
   "execution_count": 5,
   "id": "2a5cdcf9",
   "metadata": {},
   "outputs": [
    {
     "name": "stdout",
     "output_type": "stream",
     "text": [
      "<class 'pandas.core.frame.DataFrame'>\n",
      "RangeIndex: 11764550 entries, 0 to 11764549\n",
      "Data columns (total 6 columns):\n",
      " #   Column            Dtype \n",
      "---  ------            ----- \n",
      " 0   uuid              object\n",
      " 1   price_string      object\n",
      " 2   price_string_unf  object\n",
      " 3   product_type      object\n",
      " 4   level_1           object\n",
      " 5   category          object\n",
      "dtypes: object(6)\n",
      "memory usage: 538.5+ MB\n"
     ]
    }
   ],
   "source": [
    "product.info()"
   ]
  },
  {
   "cell_type": "code",
   "execution_count": 6,
   "id": "9e2df5bd",
   "metadata": {
    "scrolled": true
   },
   "outputs": [
    {
     "data": {
      "text/plain": [
       "$0.00     205586\n",
       "$89       102810\n",
       "$9.99      85583\n",
       "$3.99      77255\n",
       "$38.00     68635\n",
       "           ...  \n",
       "$499        8509\n",
       "$339        8506\n",
       "$16.00      8496\n",
       "$229        8496\n",
       "$68         8463\n",
       "Name: price_string, Length: 248, dtype: int64"
      ]
     },
     "execution_count": 6,
     "metadata": {},
     "output_type": "execute_result"
    }
   ],
   "source": [
    "product['price_string'].value_counts()"
   ]
  },
  {
   "cell_type": "markdown",
   "id": "78116d0c",
   "metadata": {},
   "source": [
    "# TASK1\n",
    "PRODUCT WITHOUT PRICE"
   ]
  },
  {
   "cell_type": "code",
   "execution_count": 7,
   "id": "46c17d83",
   "metadata": {
    "scrolled": true
   },
   "outputs": [
    {
     "data": {
      "text/html": [
       "<div>\n",
       "<style scoped>\n",
       "    .dataframe tbody tr th:only-of-type {\n",
       "        vertical-align: middle;\n",
       "    }\n",
       "\n",
       "    .dataframe tbody tr th {\n",
       "        vertical-align: top;\n",
       "    }\n",
       "\n",
       "    .dataframe thead th {\n",
       "        text-align: right;\n",
       "    }\n",
       "</style>\n",
       "<table border=\"1\" class=\"dataframe\">\n",
       "  <thead>\n",
       "    <tr style=\"text-align: right;\">\n",
       "      <th></th>\n",
       "      <th>uuid</th>\n",
       "      <th>price_string</th>\n",
       "      <th>price_string_unf</th>\n",
       "      <th>product_type</th>\n",
       "      <th>level_1</th>\n",
       "      <th>category</th>\n",
       "    </tr>\n",
       "  </thead>\n",
       "  <tbody>\n",
       "    <tr>\n",
       "      <th>0</th>\n",
       "      <td>638744a4-b0ae-4166-8cb6-5c063c862036</td>\n",
       "      <td>NaN</td>\n",
       "      <td>NaN</td>\n",
       "      <td>TGFwdG9wIENvdmVycy9CYWdz</td>\n",
       "      <td>TGFwdG9wIENhc2U</td>\n",
       "      <td>RWxlY3Ryb25pY3M</td>\n",
       "    </tr>\n",
       "    <tr>\n",
       "      <th>1</th>\n",
       "      <td>ab313969-02cc-48b2-9daf-0054efb70b92</td>\n",
       "      <td>NaN</td>\n",
       "      <td>NaN</td>\n",
       "      <td>QmFraW5nIEN1cHMgYW5kIE1hdHM</td>\n",
       "      <td>QmFraW5nIE1hdHMgLyBCYWtpbmcgZGlzaA</td>\n",
       "      <td>a2l0Y2hpbmcgYW5kIGRpbmluZw</td>\n",
       "    </tr>\n",
       "    <tr>\n",
       "      <th>5</th>\n",
       "      <td>389d9f75-cc3f-4bd2-94f7-93e381a3bed5</td>\n",
       "      <td>NaN</td>\n",
       "      <td>NaN</td>\n",
       "      <td>TmF0dXJhbCBTd2VldGVuZXJzLyBTdWdhcg</td>\n",
       "      <td>TW9uayBGcnVpdA</td>\n",
       "      <td>Z3JvY2VyaWVz</td>\n",
       "    </tr>\n",
       "    <tr>\n",
       "      <th>13</th>\n",
       "      <td>1f2766ec-0a27-43f8-b28b-77a44492ead1</td>\n",
       "      <td>NaN</td>\n",
       "      <td>NaN</td>\n",
       "      <td>U2NydWJzIGFuZCBjbGVhbmluZyBjbG90aHM</td>\n",
       "      <td>U2NydWJz</td>\n",
       "      <td>SG91c2Vob2xkIGFuZCBDbGVhbmluZw</td>\n",
       "    </tr>\n",
       "    <tr>\n",
       "      <th>16</th>\n",
       "      <td>7bad39f5-74b9-4611-afb9-46fb135190cd</td>\n",
       "      <td>NaN</td>\n",
       "      <td>NaN</td>\n",
       "      <td>UGx1cyBzaXplIHdlYXIgZHJlc3M</td>\n",
       "      <td>RHJlc3M</td>\n",
       "      <td>Q2xvdGhpbmcgYW5kIEFjY2Vzc29yaWVz</td>\n",
       "    </tr>\n",
       "    <tr>\n",
       "      <th>...</th>\n",
       "      <td>...</td>\n",
       "      <td>...</td>\n",
       "      <td>...</td>\n",
       "      <td>...</td>\n",
       "      <td>...</td>\n",
       "      <td>...</td>\n",
       "    </tr>\n",
       "    <tr>\n",
       "      <th>11764544</th>\n",
       "      <td>4f68393e-b5a7-41a5-a533-6d61ab9088fb</td>\n",
       "      <td>NaN</td>\n",
       "      <td>NaN</td>\n",
       "      <td>Q29mZmVlIEJlYW5z</td>\n",
       "      <td>TWVkaXVtIFJvYXN0</td>\n",
       "      <td>Z3JvY2VyaWVz</td>\n",
       "    </tr>\n",
       "    <tr>\n",
       "      <th>11764546</th>\n",
       "      <td>dc443860-47b7-482f-aee5-15e4b7238cb7</td>\n",
       "      <td>NaN</td>\n",
       "      <td>NaN</td>\n",
       "      <td>UGV0IERlbnRhbCBjYXJl</td>\n",
       "      <td>RG9nIERlbnRhbCBTdGlja3M</td>\n",
       "      <td>cGV0IHN1cHBsaWVz</td>\n",
       "    </tr>\n",
       "    <tr>\n",
       "      <th>11764547</th>\n",
       "      <td>9992453e-8fbf-4c26-8e14-0a0b6dbad801</td>\n",
       "      <td>NaN</td>\n",
       "      <td>NaN</td>\n",
       "      <td>U3VyZiBzdWl0cw</td>\n",
       "      <td>V29tZW5zIHN1cmYgc3VpdA</td>\n",
       "      <td>Q2xvdGhpbmcgYW5kIEFjY2Vzc29yaWVz</td>\n",
       "    </tr>\n",
       "    <tr>\n",
       "      <th>11764548</th>\n",
       "      <td>084a8937-9877-4290-a3b0-4463a5fe707e</td>\n",
       "      <td>NaN</td>\n",
       "      <td>NaN</td>\n",
       "      <td>T3JnYW5pYyBCYWJ5IEZvb2Q</td>\n",
       "      <td>UGxhbnQgYmFzZWQgYmFieSBmb3JtdWxh</td>\n",
       "      <td>QmFieWNhcmU</td>\n",
       "    </tr>\n",
       "    <tr>\n",
       "      <th>11764549</th>\n",
       "      <td>a</td>\n",
       "      <td>NaN</td>\n",
       "      <td>NaN</td>\n",
       "      <td>NaN</td>\n",
       "      <td>NaN</td>\n",
       "      <td>NaN</td>\n",
       "    </tr>\n",
       "  </tbody>\n",
       "</table>\n",
       "<p>7043441 rows × 6 columns</p>\n",
       "</div>"
      ],
      "text/plain": [
       "                                          uuid price_string price_string_unf  \\\n",
       "0         638744a4-b0ae-4166-8cb6-5c063c862036          NaN              NaN   \n",
       "1         ab313969-02cc-48b2-9daf-0054efb70b92          NaN              NaN   \n",
       "5         389d9f75-cc3f-4bd2-94f7-93e381a3bed5          NaN              NaN   \n",
       "13        1f2766ec-0a27-43f8-b28b-77a44492ead1          NaN              NaN   \n",
       "16        7bad39f5-74b9-4611-afb9-46fb135190cd          NaN              NaN   \n",
       "...                                        ...          ...              ...   \n",
       "11764544  4f68393e-b5a7-41a5-a533-6d61ab9088fb          NaN              NaN   \n",
       "11764546  dc443860-47b7-482f-aee5-15e4b7238cb7          NaN              NaN   \n",
       "11764547  9992453e-8fbf-4c26-8e14-0a0b6dbad801          NaN              NaN   \n",
       "11764548  084a8937-9877-4290-a3b0-4463a5fe707e          NaN              NaN   \n",
       "11764549                                     a          NaN              NaN   \n",
       "\n",
       "                                 product_type  \\\n",
       "0                    TGFwdG9wIENvdmVycy9CYWdz   \n",
       "1                 QmFraW5nIEN1cHMgYW5kIE1hdHM   \n",
       "5          TmF0dXJhbCBTd2VldGVuZXJzLyBTdWdhcg   \n",
       "13        U2NydWJzIGFuZCBjbGVhbmluZyBjbG90aHM   \n",
       "16                UGx1cyBzaXplIHdlYXIgZHJlc3M   \n",
       "...                                       ...   \n",
       "11764544                     Q29mZmVlIEJlYW5z   \n",
       "11764546                 UGV0IERlbnRhbCBjYXJl   \n",
       "11764547                       U3VyZiBzdWl0cw   \n",
       "11764548              T3JnYW5pYyBCYWJ5IEZvb2Q   \n",
       "11764549                                  NaN   \n",
       "\n",
       "                                     level_1                          category  \n",
       "0                            TGFwdG9wIENhc2U                   RWxlY3Ryb25pY3M  \n",
       "1         QmFraW5nIE1hdHMgLyBCYWtpbmcgZGlzaA        a2l0Y2hpbmcgYW5kIGRpbmluZw  \n",
       "5                             TW9uayBGcnVpdA                      Z3JvY2VyaWVz  \n",
       "13                                  U2NydWJz    SG91c2Vob2xkIGFuZCBDbGVhbmluZw  \n",
       "16                                   RHJlc3M  Q2xvdGhpbmcgYW5kIEFjY2Vzc29yaWVz  \n",
       "...                                      ...                               ...  \n",
       "11764544                    TWVkaXVtIFJvYXN0                      Z3JvY2VyaWVz  \n",
       "11764546             RG9nIERlbnRhbCBTdGlja3M                  cGV0IHN1cHBsaWVz  \n",
       "11764547              V29tZW5zIHN1cmYgc3VpdA  Q2xvdGhpbmcgYW5kIEFjY2Vzc29yaWVz  \n",
       "11764548    UGxhbnQgYmFzZWQgYmFieSBmb3JtdWxh                       QmFieWNhcmU  \n",
       "11764549                                 NaN                               NaN  \n",
       "\n",
       "[7043441 rows x 6 columns]"
      ]
     },
     "execution_count": 7,
     "metadata": {},
     "output_type": "execute_result"
    }
   ],
   "source": [
    "product[product['price_string'].isnull()]"
   ]
  },
  {
   "cell_type": "code",
   "execution_count": 8,
   "id": "5102adf9",
   "metadata": {
    "scrolled": true
   },
   "outputs": [
    {
     "data": {
      "text/plain": [
       "uuid                7043441\n",
       "price_string              0\n",
       "price_string_unf      60095\n",
       "product_type        7034865\n",
       "level_1             7009089\n",
       "category            7034865\n",
       "dtype: int64"
      ]
     },
     "execution_count": 8,
     "metadata": {},
     "output_type": "execute_result"
    }
   ],
   "source": [
    "product[product['price_string'].isnull()].count()"
   ]
  },
  {
   "cell_type": "markdown",
   "id": "6dcdcb59",
   "metadata": {},
   "source": [
    "# TASK 2 \n",
    "COUNT OF PRUDUCTS WITHOUT PRICE AND WITH PRICE IN EACH PRODUCT TYPE, CATEGORY, LEVEL1"
   ]
  },
  {
   "cell_type": "markdown",
   "id": "2d146280",
   "metadata": {},
   "source": [
    "COUNT OF PRUDUCTS WITHOUT PRICE IN PRODUCT TYPE"
   ]
  },
  {
   "cell_type": "code",
   "execution_count": 9,
   "id": "46d79112",
   "metadata": {},
   "outputs": [
    {
     "data": {
      "text/plain": [
       "7034865"
      ]
     },
     "execution_count": 9,
     "metadata": {},
     "output_type": "execute_result"
    }
   ],
   "source": [
    "product[product['price_string'].isnull()]['product_type'].count()"
   ]
  },
  {
   "cell_type": "markdown",
   "id": "ab698974",
   "metadata": {},
   "source": [
    "COUNT OF PRUDUCTS  WITH PRICE PRODUCT TYPE"
   ]
  },
  {
   "cell_type": "code",
   "execution_count": 10,
   "id": "321f88b8",
   "metadata": {},
   "outputs": [
    {
     "data": {
      "text/plain": [
       "4721109"
      ]
     },
     "execution_count": 10,
     "metadata": {},
     "output_type": "execute_result"
    }
   ],
   "source": [
    "product[product['price_string'].notnull()]['product_type'].count()"
   ]
  },
  {
   "cell_type": "markdown",
   "id": "e91ce227",
   "metadata": {},
   "source": [
    "COUNT OF PRUDUCTS WITHOUT PRICE IN CATEGORY"
   ]
  },
  {
   "cell_type": "code",
   "execution_count": 11,
   "id": "bd429ff2",
   "metadata": {},
   "outputs": [
    {
     "data": {
      "text/plain": [
       "7034865"
      ]
     },
     "execution_count": 11,
     "metadata": {},
     "output_type": "execute_result"
    }
   ],
   "source": [
    "product[product['price_string'].isnull()]['category'].count()"
   ]
  },
  {
   "cell_type": "markdown",
   "id": "0b9b4c17",
   "metadata": {},
   "source": [
    "COUNT OF PRUDUCTS WITH PRICE IN CATEGORY"
   ]
  },
  {
   "cell_type": "code",
   "execution_count": 12,
   "id": "fb0203a4",
   "metadata": {},
   "outputs": [
    {
     "data": {
      "text/plain": [
       "4721109"
      ]
     },
     "execution_count": 12,
     "metadata": {},
     "output_type": "execute_result"
    }
   ],
   "source": [
    "product[product['price_string'].notnull()]['category'].count()"
   ]
  },
  {
   "cell_type": "markdown",
   "id": "c3982c6a",
   "metadata": {},
   "source": [
    "COUNT OF PRUDUCTS WITHOUT PRICE IN LEVEL 1"
   ]
  },
  {
   "cell_type": "code",
   "execution_count": 13,
   "id": "e4e862f8",
   "metadata": {},
   "outputs": [
    {
     "data": {
      "text/plain": [
       "7009089"
      ]
     },
     "execution_count": 13,
     "metadata": {},
     "output_type": "execute_result"
    }
   ],
   "source": [
    "product[product['price_string'].isnull()]['level_1'].count()"
   ]
  },
  {
   "cell_type": "markdown",
   "id": "cd9aae51",
   "metadata": {},
   "source": [
    "COUNT OF PRUDUCTS WITHOUT PRICE IN LEVEL 1"
   ]
  },
  {
   "cell_type": "code",
   "execution_count": 14,
   "id": "52a5d1cd",
   "metadata": {
    "scrolled": true
   },
   "outputs": [
    {
     "data": {
      "text/plain": [
       "4712575"
      ]
     },
     "execution_count": 14,
     "metadata": {},
     "output_type": "execute_result"
    }
   ],
   "source": [
    "product[product['price_string'].notnull()]['level_1'].count()"
   ]
  },
  {
   "cell_type": "markdown",
   "id": "da0f6c34",
   "metadata": {},
   "source": [
    "# TASK3\n",
    "Correct Product Prices in the correct format (eg: $56) wherever possible and separate them into currency and value columns. "
   ]
  },
  {
   "cell_type": "markdown",
   "id": "07bc6d07",
   "metadata": {},
   "source": [
    "FILLING NULL VALUES WITH $0.00 PRICE"
   ]
  },
  {
   "cell_type": "code",
   "execution_count": 15,
   "id": "fd9951c4",
   "metadata": {},
   "outputs": [],
   "source": [
    "product['price_string']= np.where(product['price_string'].isnull(), \"$0.00\", product['price_string'])"
   ]
  },
  {
   "cell_type": "code",
   "execution_count": 16,
   "id": "0ee92834",
   "metadata": {
    "scrolled": true
   },
   "outputs": [
    {
     "data": {
      "text/html": [
       "<div>\n",
       "<style scoped>\n",
       "    .dataframe tbody tr th:only-of-type {\n",
       "        vertical-align: middle;\n",
       "    }\n",
       "\n",
       "    .dataframe tbody tr th {\n",
       "        vertical-align: top;\n",
       "    }\n",
       "\n",
       "    .dataframe thead th {\n",
       "        text-align: right;\n",
       "    }\n",
       "</style>\n",
       "<table border=\"1\" class=\"dataframe\">\n",
       "  <thead>\n",
       "    <tr style=\"text-align: right;\">\n",
       "      <th></th>\n",
       "      <th>uuid</th>\n",
       "      <th>price_string</th>\n",
       "      <th>price_string_unf</th>\n",
       "      <th>product_type</th>\n",
       "      <th>level_1</th>\n",
       "      <th>category</th>\n",
       "    </tr>\n",
       "  </thead>\n",
       "  <tbody>\n",
       "    <tr>\n",
       "      <th>0</th>\n",
       "      <td>638744a4-b0ae-4166-8cb6-5c063c862036</td>\n",
       "      <td>$0.00</td>\n",
       "      <td>NaN</td>\n",
       "      <td>TGFwdG9wIENvdmVycy9CYWdz</td>\n",
       "      <td>TGFwdG9wIENhc2U</td>\n",
       "      <td>RWxlY3Ryb25pY3M</td>\n",
       "    </tr>\n",
       "    <tr>\n",
       "      <th>1</th>\n",
       "      <td>ab313969-02cc-48b2-9daf-0054efb70b92</td>\n",
       "      <td>$0.00</td>\n",
       "      <td>NaN</td>\n",
       "      <td>QmFraW5nIEN1cHMgYW5kIE1hdHM</td>\n",
       "      <td>QmFraW5nIE1hdHMgLyBCYWtpbmcgZGlzaA</td>\n",
       "      <td>a2l0Y2hpbmcgYW5kIGRpbmluZw</td>\n",
       "    </tr>\n",
       "    <tr>\n",
       "      <th>2</th>\n",
       "      <td>acbd66ff-79f8-467a-91f9-108a45af5626</td>\n",
       "      <td>$19.95</td>\n",
       "      <td>NaN</td>\n",
       "      <td>R3VtbWllcyB2aXRhbWlucyBhbmQgbWluZXJhbHMgZm9yIG...</td>\n",
       "      <td>SW1tdW5pdHkgZ3VtbWllcw</td>\n",
       "      <td>SGVhbHRo</td>\n",
       "    </tr>\n",
       "    <tr>\n",
       "      <th>3</th>\n",
       "      <td>963915d6-b2e3-4098-b242-9410593cf205</td>\n",
       "      <td>$92.00</td>\n",
       "      <td>NaN</td>\n",
       "      <td>U2VydW1z</td>\n",
       "      <td>RmFjZSBTZXJ1bQ</td>\n",
       "      <td>YmVhdXR5IGFuZCBwZXJzb25hbCBjYXJl</td>\n",
       "    </tr>\n",
       "    <tr>\n",
       "      <th>4</th>\n",
       "      <td>b5b68f3c-b1e0-40e5-8ee5-e2f7236c1daf</td>\n",
       "      <td>11.50</td>\n",
       "      <td>NaN</td>\n",
       "      <td>RWF0aW5nIFV0ZW5zaWxzL0N1dGxlcnk</td>\n",
       "      <td>Q2hvcHN0aWNrcw</td>\n",
       "      <td>a2l0Y2hpbmcgYW5kIGRpbmluZw</td>\n",
       "    </tr>\n",
       "    <tr>\n",
       "      <th>...</th>\n",
       "      <td>...</td>\n",
       "      <td>...</td>\n",
       "      <td>...</td>\n",
       "      <td>...</td>\n",
       "      <td>...</td>\n",
       "      <td>...</td>\n",
       "    </tr>\n",
       "    <tr>\n",
       "      <th>11764545</th>\n",
       "      <td>72efdfa0-2645-4ef8-b5a7-d89a1345d386</td>\n",
       "      <td>$14.00</td>\n",
       "      <td>NaN</td>\n",
       "      <td>ZGVvZG9yYW50cyBmb3IgbWVu</td>\n",
       "      <td>ZGVvZG9yYW50IFN0aWNr</td>\n",
       "      <td>YmVhdXR5IGFuZCBwZXJzb25hbCBjYXJl</td>\n",
       "    </tr>\n",
       "    <tr>\n",
       "      <th>11764546</th>\n",
       "      <td>dc443860-47b7-482f-aee5-15e4b7238cb7</td>\n",
       "      <td>$0.00</td>\n",
       "      <td>NaN</td>\n",
       "      <td>UGV0IERlbnRhbCBjYXJl</td>\n",
       "      <td>RG9nIERlbnRhbCBTdGlja3M</td>\n",
       "      <td>cGV0IHN1cHBsaWVz</td>\n",
       "    </tr>\n",
       "    <tr>\n",
       "      <th>11764547</th>\n",
       "      <td>9992453e-8fbf-4c26-8e14-0a0b6dbad801</td>\n",
       "      <td>$0.00</td>\n",
       "      <td>NaN</td>\n",
       "      <td>U3VyZiBzdWl0cw</td>\n",
       "      <td>V29tZW5zIHN1cmYgc3VpdA</td>\n",
       "      <td>Q2xvdGhpbmcgYW5kIEFjY2Vzc29yaWVz</td>\n",
       "    </tr>\n",
       "    <tr>\n",
       "      <th>11764548</th>\n",
       "      <td>084a8937-9877-4290-a3b0-4463a5fe707e</td>\n",
       "      <td>$0.00</td>\n",
       "      <td>NaN</td>\n",
       "      <td>T3JnYW5pYyBCYWJ5IEZvb2Q</td>\n",
       "      <td>UGxhbnQgYmFzZWQgYmFieSBmb3JtdWxh</td>\n",
       "      <td>QmFieWNhcmU</td>\n",
       "    </tr>\n",
       "    <tr>\n",
       "      <th>11764549</th>\n",
       "      <td>a</td>\n",
       "      <td>$0.00</td>\n",
       "      <td>NaN</td>\n",
       "      <td>NaN</td>\n",
       "      <td>NaN</td>\n",
       "      <td>NaN</td>\n",
       "    </tr>\n",
       "  </tbody>\n",
       "</table>\n",
       "<p>11764550 rows × 6 columns</p>\n",
       "</div>"
      ],
      "text/plain": [
       "                                          uuid price_string price_string_unf  \\\n",
       "0         638744a4-b0ae-4166-8cb6-5c063c862036        $0.00              NaN   \n",
       "1         ab313969-02cc-48b2-9daf-0054efb70b92        $0.00              NaN   \n",
       "2         acbd66ff-79f8-467a-91f9-108a45af5626       $19.95              NaN   \n",
       "3         963915d6-b2e3-4098-b242-9410593cf205       $92.00              NaN   \n",
       "4         b5b68f3c-b1e0-40e5-8ee5-e2f7236c1daf        11.50              NaN   \n",
       "...                                        ...          ...              ...   \n",
       "11764545  72efdfa0-2645-4ef8-b5a7-d89a1345d386       $14.00              NaN   \n",
       "11764546  dc443860-47b7-482f-aee5-15e4b7238cb7        $0.00              NaN   \n",
       "11764547  9992453e-8fbf-4c26-8e14-0a0b6dbad801        $0.00              NaN   \n",
       "11764548  084a8937-9877-4290-a3b0-4463a5fe707e        $0.00              NaN   \n",
       "11764549                                     a        $0.00              NaN   \n",
       "\n",
       "                                               product_type  \\\n",
       "0                                  TGFwdG9wIENvdmVycy9CYWdz   \n",
       "1                               QmFraW5nIEN1cHMgYW5kIE1hdHM   \n",
       "2         R3VtbWllcyB2aXRhbWlucyBhbmQgbWluZXJhbHMgZm9yIG...   \n",
       "3                                                  U2VydW1z   \n",
       "4                           RWF0aW5nIFV0ZW5zaWxzL0N1dGxlcnk   \n",
       "...                                                     ...   \n",
       "11764545                           ZGVvZG9yYW50cyBmb3IgbWVu   \n",
       "11764546                               UGV0IERlbnRhbCBjYXJl   \n",
       "11764547                                     U3VyZiBzdWl0cw   \n",
       "11764548                            T3JnYW5pYyBCYWJ5IEZvb2Q   \n",
       "11764549                                                NaN   \n",
       "\n",
       "                                     level_1                          category  \n",
       "0                            TGFwdG9wIENhc2U                   RWxlY3Ryb25pY3M  \n",
       "1         QmFraW5nIE1hdHMgLyBCYWtpbmcgZGlzaA        a2l0Y2hpbmcgYW5kIGRpbmluZw  \n",
       "2                     SW1tdW5pdHkgZ3VtbWllcw                          SGVhbHRo  \n",
       "3                             RmFjZSBTZXJ1bQ  YmVhdXR5IGFuZCBwZXJzb25hbCBjYXJl  \n",
       "4                             Q2hvcHN0aWNrcw        a2l0Y2hpbmcgYW5kIGRpbmluZw  \n",
       "...                                      ...                               ...  \n",
       "11764545                ZGVvZG9yYW50IFN0aWNr  YmVhdXR5IGFuZCBwZXJzb25hbCBjYXJl  \n",
       "11764546             RG9nIERlbnRhbCBTdGlja3M                  cGV0IHN1cHBsaWVz  \n",
       "11764547              V29tZW5zIHN1cmYgc3VpdA  Q2xvdGhpbmcgYW5kIEFjY2Vzc29yaWVz  \n",
       "11764548    UGxhbnQgYmFzZWQgYmFieSBmb3JtdWxh                       QmFieWNhcmU  \n",
       "11764549                                 NaN                               NaN  \n",
       "\n",
       "[11764550 rows x 6 columns]"
      ]
     },
     "execution_count": 16,
     "metadata": {},
     "output_type": "execute_result"
    }
   ],
   "source": [
    "product"
   ]
  },
  {
   "cell_type": "markdown",
   "id": "34b0c767",
   "metadata": {},
   "source": [
    "DEFINING A FUNCTION TO CORRECT PRODUCT PRICE IN THE CORRECT FORMAT"
   ]
  },
  {
   "cell_type": "code",
   "execution_count": 17,
   "id": "10efc87e",
   "metadata": {},
   "outputs": [],
   "source": [
    "def check(x):\n",
    "    if \"$\" in x:\n",
    "        return x\n",
    "    else:\n",
    "        return \"$\"+x"
   ]
  },
  {
   "cell_type": "code",
   "execution_count": 18,
   "id": "5dc6b8bd",
   "metadata": {},
   "outputs": [],
   "source": [
    "product['price_string']= product['price_string'].apply(check)"
   ]
  },
  {
   "cell_type": "code",
   "execution_count": 19,
   "id": "48cee21c",
   "metadata": {},
   "outputs": [
    {
     "data": {
      "text/html": [
       "<div>\n",
       "<style scoped>\n",
       "    .dataframe tbody tr th:only-of-type {\n",
       "        vertical-align: middle;\n",
       "    }\n",
       "\n",
       "    .dataframe tbody tr th {\n",
       "        vertical-align: top;\n",
       "    }\n",
       "\n",
       "    .dataframe thead th {\n",
       "        text-align: right;\n",
       "    }\n",
       "</style>\n",
       "<table border=\"1\" class=\"dataframe\">\n",
       "  <thead>\n",
       "    <tr style=\"text-align: right;\">\n",
       "      <th></th>\n",
       "      <th>uuid</th>\n",
       "      <th>price_string</th>\n",
       "      <th>price_string_unf</th>\n",
       "      <th>product_type</th>\n",
       "      <th>level_1</th>\n",
       "      <th>category</th>\n",
       "    </tr>\n",
       "  </thead>\n",
       "  <tbody>\n",
       "    <tr>\n",
       "      <th>0</th>\n",
       "      <td>638744a4-b0ae-4166-8cb6-5c063c862036</td>\n",
       "      <td>$0.00</td>\n",
       "      <td>NaN</td>\n",
       "      <td>TGFwdG9wIENvdmVycy9CYWdz</td>\n",
       "      <td>TGFwdG9wIENhc2U</td>\n",
       "      <td>RWxlY3Ryb25pY3M</td>\n",
       "    </tr>\n",
       "    <tr>\n",
       "      <th>1</th>\n",
       "      <td>ab313969-02cc-48b2-9daf-0054efb70b92</td>\n",
       "      <td>$0.00</td>\n",
       "      <td>NaN</td>\n",
       "      <td>QmFraW5nIEN1cHMgYW5kIE1hdHM</td>\n",
       "      <td>QmFraW5nIE1hdHMgLyBCYWtpbmcgZGlzaA</td>\n",
       "      <td>a2l0Y2hpbmcgYW5kIGRpbmluZw</td>\n",
       "    </tr>\n",
       "    <tr>\n",
       "      <th>2</th>\n",
       "      <td>acbd66ff-79f8-467a-91f9-108a45af5626</td>\n",
       "      <td>$19.95</td>\n",
       "      <td>NaN</td>\n",
       "      <td>R3VtbWllcyB2aXRhbWlucyBhbmQgbWluZXJhbHMgZm9yIG...</td>\n",
       "      <td>SW1tdW5pdHkgZ3VtbWllcw</td>\n",
       "      <td>SGVhbHRo</td>\n",
       "    </tr>\n",
       "    <tr>\n",
       "      <th>3</th>\n",
       "      <td>963915d6-b2e3-4098-b242-9410593cf205</td>\n",
       "      <td>$92.00</td>\n",
       "      <td>NaN</td>\n",
       "      <td>U2VydW1z</td>\n",
       "      <td>RmFjZSBTZXJ1bQ</td>\n",
       "      <td>YmVhdXR5IGFuZCBwZXJzb25hbCBjYXJl</td>\n",
       "    </tr>\n",
       "    <tr>\n",
       "      <th>4</th>\n",
       "      <td>b5b68f3c-b1e0-40e5-8ee5-e2f7236c1daf</td>\n",
       "      <td>$11.50</td>\n",
       "      <td>NaN</td>\n",
       "      <td>RWF0aW5nIFV0ZW5zaWxzL0N1dGxlcnk</td>\n",
       "      <td>Q2hvcHN0aWNrcw</td>\n",
       "      <td>a2l0Y2hpbmcgYW5kIGRpbmluZw</td>\n",
       "    </tr>\n",
       "    <tr>\n",
       "      <th>...</th>\n",
       "      <td>...</td>\n",
       "      <td>...</td>\n",
       "      <td>...</td>\n",
       "      <td>...</td>\n",
       "      <td>...</td>\n",
       "      <td>...</td>\n",
       "    </tr>\n",
       "    <tr>\n",
       "      <th>11764545</th>\n",
       "      <td>72efdfa0-2645-4ef8-b5a7-d89a1345d386</td>\n",
       "      <td>$14.00</td>\n",
       "      <td>NaN</td>\n",
       "      <td>ZGVvZG9yYW50cyBmb3IgbWVu</td>\n",
       "      <td>ZGVvZG9yYW50IFN0aWNr</td>\n",
       "      <td>YmVhdXR5IGFuZCBwZXJzb25hbCBjYXJl</td>\n",
       "    </tr>\n",
       "    <tr>\n",
       "      <th>11764546</th>\n",
       "      <td>dc443860-47b7-482f-aee5-15e4b7238cb7</td>\n",
       "      <td>$0.00</td>\n",
       "      <td>NaN</td>\n",
       "      <td>UGV0IERlbnRhbCBjYXJl</td>\n",
       "      <td>RG9nIERlbnRhbCBTdGlja3M</td>\n",
       "      <td>cGV0IHN1cHBsaWVz</td>\n",
       "    </tr>\n",
       "    <tr>\n",
       "      <th>11764547</th>\n",
       "      <td>9992453e-8fbf-4c26-8e14-0a0b6dbad801</td>\n",
       "      <td>$0.00</td>\n",
       "      <td>NaN</td>\n",
       "      <td>U3VyZiBzdWl0cw</td>\n",
       "      <td>V29tZW5zIHN1cmYgc3VpdA</td>\n",
       "      <td>Q2xvdGhpbmcgYW5kIEFjY2Vzc29yaWVz</td>\n",
       "    </tr>\n",
       "    <tr>\n",
       "      <th>11764548</th>\n",
       "      <td>084a8937-9877-4290-a3b0-4463a5fe707e</td>\n",
       "      <td>$0.00</td>\n",
       "      <td>NaN</td>\n",
       "      <td>T3JnYW5pYyBCYWJ5IEZvb2Q</td>\n",
       "      <td>UGxhbnQgYmFzZWQgYmFieSBmb3JtdWxh</td>\n",
       "      <td>QmFieWNhcmU</td>\n",
       "    </tr>\n",
       "    <tr>\n",
       "      <th>11764549</th>\n",
       "      <td>a</td>\n",
       "      <td>$0.00</td>\n",
       "      <td>NaN</td>\n",
       "      <td>NaN</td>\n",
       "      <td>NaN</td>\n",
       "      <td>NaN</td>\n",
       "    </tr>\n",
       "  </tbody>\n",
       "</table>\n",
       "<p>11764550 rows × 6 columns</p>\n",
       "</div>"
      ],
      "text/plain": [
       "                                          uuid price_string price_string_unf  \\\n",
       "0         638744a4-b0ae-4166-8cb6-5c063c862036        $0.00              NaN   \n",
       "1         ab313969-02cc-48b2-9daf-0054efb70b92        $0.00              NaN   \n",
       "2         acbd66ff-79f8-467a-91f9-108a45af5626       $19.95              NaN   \n",
       "3         963915d6-b2e3-4098-b242-9410593cf205       $92.00              NaN   \n",
       "4         b5b68f3c-b1e0-40e5-8ee5-e2f7236c1daf       $11.50              NaN   \n",
       "...                                        ...          ...              ...   \n",
       "11764545  72efdfa0-2645-4ef8-b5a7-d89a1345d386       $14.00              NaN   \n",
       "11764546  dc443860-47b7-482f-aee5-15e4b7238cb7        $0.00              NaN   \n",
       "11764547  9992453e-8fbf-4c26-8e14-0a0b6dbad801        $0.00              NaN   \n",
       "11764548  084a8937-9877-4290-a3b0-4463a5fe707e        $0.00              NaN   \n",
       "11764549                                     a        $0.00              NaN   \n",
       "\n",
       "                                               product_type  \\\n",
       "0                                  TGFwdG9wIENvdmVycy9CYWdz   \n",
       "1                               QmFraW5nIEN1cHMgYW5kIE1hdHM   \n",
       "2         R3VtbWllcyB2aXRhbWlucyBhbmQgbWluZXJhbHMgZm9yIG...   \n",
       "3                                                  U2VydW1z   \n",
       "4                           RWF0aW5nIFV0ZW5zaWxzL0N1dGxlcnk   \n",
       "...                                                     ...   \n",
       "11764545                           ZGVvZG9yYW50cyBmb3IgbWVu   \n",
       "11764546                               UGV0IERlbnRhbCBjYXJl   \n",
       "11764547                                     U3VyZiBzdWl0cw   \n",
       "11764548                            T3JnYW5pYyBCYWJ5IEZvb2Q   \n",
       "11764549                                                NaN   \n",
       "\n",
       "                                     level_1                          category  \n",
       "0                            TGFwdG9wIENhc2U                   RWxlY3Ryb25pY3M  \n",
       "1         QmFraW5nIE1hdHMgLyBCYWtpbmcgZGlzaA        a2l0Y2hpbmcgYW5kIGRpbmluZw  \n",
       "2                     SW1tdW5pdHkgZ3VtbWllcw                          SGVhbHRo  \n",
       "3                             RmFjZSBTZXJ1bQ  YmVhdXR5IGFuZCBwZXJzb25hbCBjYXJl  \n",
       "4                             Q2hvcHN0aWNrcw        a2l0Y2hpbmcgYW5kIGRpbmluZw  \n",
       "...                                      ...                               ...  \n",
       "11764545                ZGVvZG9yYW50IFN0aWNr  YmVhdXR5IGFuZCBwZXJzb25hbCBjYXJl  \n",
       "11764546             RG9nIERlbnRhbCBTdGlja3M                  cGV0IHN1cHBsaWVz  \n",
       "11764547              V29tZW5zIHN1cmYgc3VpdA  Q2xvdGhpbmcgYW5kIEFjY2Vzc29yaWVz  \n",
       "11764548    UGxhbnQgYmFzZWQgYmFieSBmb3JtdWxh                       QmFieWNhcmU  \n",
       "11764549                                 NaN                               NaN  \n",
       "\n",
       "[11764550 rows x 6 columns]"
      ]
     },
     "execution_count": 19,
     "metadata": {},
     "output_type": "execute_result"
    }
   ],
   "source": [
    "product"
   ]
  },
  {
   "cell_type": "markdown",
   "id": "ebf943b4",
   "metadata": {},
   "source": [
    "SEPERATING THE PRICE COLUMN INTO CURRENCY AND VALUE COLUMNS"
   ]
  },
  {
   "cell_type": "code",
   "execution_count": 20,
   "id": "ebb16830",
   "metadata": {},
   "outputs": [],
   "source": [
    "product['currency']=product['price_string'].apply(lambda x: x[0] )\n",
    "product['value']=product['price_string'].apply(lambda x: x[1:] )"
   ]
  },
  {
   "cell_type": "code",
   "execution_count": 21,
   "id": "b1b8da0b",
   "metadata": {},
   "outputs": [
    {
     "data": {
      "text/html": [
       "<div>\n",
       "<style scoped>\n",
       "    .dataframe tbody tr th:only-of-type {\n",
       "        vertical-align: middle;\n",
       "    }\n",
       "\n",
       "    .dataframe tbody tr th {\n",
       "        vertical-align: top;\n",
       "    }\n",
       "\n",
       "    .dataframe thead th {\n",
       "        text-align: right;\n",
       "    }\n",
       "</style>\n",
       "<table border=\"1\" class=\"dataframe\">\n",
       "  <thead>\n",
       "    <tr style=\"text-align: right;\">\n",
       "      <th></th>\n",
       "      <th>uuid</th>\n",
       "      <th>price_string</th>\n",
       "      <th>price_string_unf</th>\n",
       "      <th>product_type</th>\n",
       "      <th>level_1</th>\n",
       "      <th>category</th>\n",
       "      <th>currency</th>\n",
       "      <th>value</th>\n",
       "    </tr>\n",
       "  </thead>\n",
       "  <tbody>\n",
       "    <tr>\n",
       "      <th>0</th>\n",
       "      <td>638744a4-b0ae-4166-8cb6-5c063c862036</td>\n",
       "      <td>$0.00</td>\n",
       "      <td>NaN</td>\n",
       "      <td>TGFwdG9wIENvdmVycy9CYWdz</td>\n",
       "      <td>TGFwdG9wIENhc2U</td>\n",
       "      <td>RWxlY3Ryb25pY3M</td>\n",
       "      <td>$</td>\n",
       "      <td>0.00</td>\n",
       "    </tr>\n",
       "    <tr>\n",
       "      <th>1</th>\n",
       "      <td>ab313969-02cc-48b2-9daf-0054efb70b92</td>\n",
       "      <td>$0.00</td>\n",
       "      <td>NaN</td>\n",
       "      <td>QmFraW5nIEN1cHMgYW5kIE1hdHM</td>\n",
       "      <td>QmFraW5nIE1hdHMgLyBCYWtpbmcgZGlzaA</td>\n",
       "      <td>a2l0Y2hpbmcgYW5kIGRpbmluZw</td>\n",
       "      <td>$</td>\n",
       "      <td>0.00</td>\n",
       "    </tr>\n",
       "    <tr>\n",
       "      <th>2</th>\n",
       "      <td>acbd66ff-79f8-467a-91f9-108a45af5626</td>\n",
       "      <td>$19.95</td>\n",
       "      <td>NaN</td>\n",
       "      <td>R3VtbWllcyB2aXRhbWlucyBhbmQgbWluZXJhbHMgZm9yIG...</td>\n",
       "      <td>SW1tdW5pdHkgZ3VtbWllcw</td>\n",
       "      <td>SGVhbHRo</td>\n",
       "      <td>$</td>\n",
       "      <td>19.95</td>\n",
       "    </tr>\n",
       "    <tr>\n",
       "      <th>3</th>\n",
       "      <td>963915d6-b2e3-4098-b242-9410593cf205</td>\n",
       "      <td>$92.00</td>\n",
       "      <td>NaN</td>\n",
       "      <td>U2VydW1z</td>\n",
       "      <td>RmFjZSBTZXJ1bQ</td>\n",
       "      <td>YmVhdXR5IGFuZCBwZXJzb25hbCBjYXJl</td>\n",
       "      <td>$</td>\n",
       "      <td>92.00</td>\n",
       "    </tr>\n",
       "    <tr>\n",
       "      <th>4</th>\n",
       "      <td>b5b68f3c-b1e0-40e5-8ee5-e2f7236c1daf</td>\n",
       "      <td>$11.50</td>\n",
       "      <td>NaN</td>\n",
       "      <td>RWF0aW5nIFV0ZW5zaWxzL0N1dGxlcnk</td>\n",
       "      <td>Q2hvcHN0aWNrcw</td>\n",
       "      <td>a2l0Y2hpbmcgYW5kIGRpbmluZw</td>\n",
       "      <td>$</td>\n",
       "      <td>11.50</td>\n",
       "    </tr>\n",
       "    <tr>\n",
       "      <th>...</th>\n",
       "      <td>...</td>\n",
       "      <td>...</td>\n",
       "      <td>...</td>\n",
       "      <td>...</td>\n",
       "      <td>...</td>\n",
       "      <td>...</td>\n",
       "      <td>...</td>\n",
       "      <td>...</td>\n",
       "    </tr>\n",
       "    <tr>\n",
       "      <th>11764545</th>\n",
       "      <td>72efdfa0-2645-4ef8-b5a7-d89a1345d386</td>\n",
       "      <td>$14.00</td>\n",
       "      <td>NaN</td>\n",
       "      <td>ZGVvZG9yYW50cyBmb3IgbWVu</td>\n",
       "      <td>ZGVvZG9yYW50IFN0aWNr</td>\n",
       "      <td>YmVhdXR5IGFuZCBwZXJzb25hbCBjYXJl</td>\n",
       "      <td>$</td>\n",
       "      <td>14.00</td>\n",
       "    </tr>\n",
       "    <tr>\n",
       "      <th>11764546</th>\n",
       "      <td>dc443860-47b7-482f-aee5-15e4b7238cb7</td>\n",
       "      <td>$0.00</td>\n",
       "      <td>NaN</td>\n",
       "      <td>UGV0IERlbnRhbCBjYXJl</td>\n",
       "      <td>RG9nIERlbnRhbCBTdGlja3M</td>\n",
       "      <td>cGV0IHN1cHBsaWVz</td>\n",
       "      <td>$</td>\n",
       "      <td>0.00</td>\n",
       "    </tr>\n",
       "    <tr>\n",
       "      <th>11764547</th>\n",
       "      <td>9992453e-8fbf-4c26-8e14-0a0b6dbad801</td>\n",
       "      <td>$0.00</td>\n",
       "      <td>NaN</td>\n",
       "      <td>U3VyZiBzdWl0cw</td>\n",
       "      <td>V29tZW5zIHN1cmYgc3VpdA</td>\n",
       "      <td>Q2xvdGhpbmcgYW5kIEFjY2Vzc29yaWVz</td>\n",
       "      <td>$</td>\n",
       "      <td>0.00</td>\n",
       "    </tr>\n",
       "    <tr>\n",
       "      <th>11764548</th>\n",
       "      <td>084a8937-9877-4290-a3b0-4463a5fe707e</td>\n",
       "      <td>$0.00</td>\n",
       "      <td>NaN</td>\n",
       "      <td>T3JnYW5pYyBCYWJ5IEZvb2Q</td>\n",
       "      <td>UGxhbnQgYmFzZWQgYmFieSBmb3JtdWxh</td>\n",
       "      <td>QmFieWNhcmU</td>\n",
       "      <td>$</td>\n",
       "      <td>0.00</td>\n",
       "    </tr>\n",
       "    <tr>\n",
       "      <th>11764549</th>\n",
       "      <td>a</td>\n",
       "      <td>$0.00</td>\n",
       "      <td>NaN</td>\n",
       "      <td>NaN</td>\n",
       "      <td>NaN</td>\n",
       "      <td>NaN</td>\n",
       "      <td>$</td>\n",
       "      <td>0.00</td>\n",
       "    </tr>\n",
       "  </tbody>\n",
       "</table>\n",
       "<p>11764550 rows × 8 columns</p>\n",
       "</div>"
      ],
      "text/plain": [
       "                                          uuid price_string price_string_unf  \\\n",
       "0         638744a4-b0ae-4166-8cb6-5c063c862036        $0.00              NaN   \n",
       "1         ab313969-02cc-48b2-9daf-0054efb70b92        $0.00              NaN   \n",
       "2         acbd66ff-79f8-467a-91f9-108a45af5626       $19.95              NaN   \n",
       "3         963915d6-b2e3-4098-b242-9410593cf205       $92.00              NaN   \n",
       "4         b5b68f3c-b1e0-40e5-8ee5-e2f7236c1daf       $11.50              NaN   \n",
       "...                                        ...          ...              ...   \n",
       "11764545  72efdfa0-2645-4ef8-b5a7-d89a1345d386       $14.00              NaN   \n",
       "11764546  dc443860-47b7-482f-aee5-15e4b7238cb7        $0.00              NaN   \n",
       "11764547  9992453e-8fbf-4c26-8e14-0a0b6dbad801        $0.00              NaN   \n",
       "11764548  084a8937-9877-4290-a3b0-4463a5fe707e        $0.00              NaN   \n",
       "11764549                                     a        $0.00              NaN   \n",
       "\n",
       "                                               product_type  \\\n",
       "0                                  TGFwdG9wIENvdmVycy9CYWdz   \n",
       "1                               QmFraW5nIEN1cHMgYW5kIE1hdHM   \n",
       "2         R3VtbWllcyB2aXRhbWlucyBhbmQgbWluZXJhbHMgZm9yIG...   \n",
       "3                                                  U2VydW1z   \n",
       "4                           RWF0aW5nIFV0ZW5zaWxzL0N1dGxlcnk   \n",
       "...                                                     ...   \n",
       "11764545                           ZGVvZG9yYW50cyBmb3IgbWVu   \n",
       "11764546                               UGV0IERlbnRhbCBjYXJl   \n",
       "11764547                                     U3VyZiBzdWl0cw   \n",
       "11764548                            T3JnYW5pYyBCYWJ5IEZvb2Q   \n",
       "11764549                                                NaN   \n",
       "\n",
       "                                     level_1  \\\n",
       "0                            TGFwdG9wIENhc2U   \n",
       "1         QmFraW5nIE1hdHMgLyBCYWtpbmcgZGlzaA   \n",
       "2                     SW1tdW5pdHkgZ3VtbWllcw   \n",
       "3                             RmFjZSBTZXJ1bQ   \n",
       "4                             Q2hvcHN0aWNrcw   \n",
       "...                                      ...   \n",
       "11764545                ZGVvZG9yYW50IFN0aWNr   \n",
       "11764546             RG9nIERlbnRhbCBTdGlja3M   \n",
       "11764547              V29tZW5zIHN1cmYgc3VpdA   \n",
       "11764548    UGxhbnQgYmFzZWQgYmFieSBmb3JtdWxh   \n",
       "11764549                                 NaN   \n",
       "\n",
       "                                  category currency  value  \n",
       "0                          RWxlY3Ryb25pY3M        $   0.00  \n",
       "1               a2l0Y2hpbmcgYW5kIGRpbmluZw        $   0.00  \n",
       "2                                 SGVhbHRo        $  19.95  \n",
       "3         YmVhdXR5IGFuZCBwZXJzb25hbCBjYXJl        $  92.00  \n",
       "4               a2l0Y2hpbmcgYW5kIGRpbmluZw        $  11.50  \n",
       "...                                    ...      ...    ...  \n",
       "11764545  YmVhdXR5IGFuZCBwZXJzb25hbCBjYXJl        $  14.00  \n",
       "11764546                  cGV0IHN1cHBsaWVz        $   0.00  \n",
       "11764547  Q2xvdGhpbmcgYW5kIEFjY2Vzc29yaWVz        $   0.00  \n",
       "11764548                       QmFieWNhcmU        $   0.00  \n",
       "11764549                               NaN        $   0.00  \n",
       "\n",
       "[11764550 rows x 8 columns]"
      ]
     },
     "execution_count": 21,
     "metadata": {},
     "output_type": "execute_result"
    }
   ],
   "source": [
    "product"
   ]
  },
  {
   "cell_type": "markdown",
   "id": "6ddb988f",
   "metadata": {},
   "source": [
    "# TASK4\n",
    " List out the categories with average price of product."
   ]
  },
  {
   "cell_type": "markdown",
   "id": "b519d291",
   "metadata": {},
   "source": [
    "AVERAGE PRICE OF PRODUCT"
   ]
  },
  {
   "cell_type": "code",
   "execution_count": 22,
   "id": "bb9262be",
   "metadata": {},
   "outputs": [],
   "source": [
    "product['value'] = pd.to_numeric(product['value'])"
   ]
  },
  {
   "cell_type": "code",
   "execution_count": 23,
   "id": "ffd5932d",
   "metadata": {},
   "outputs": [],
   "source": [
    "average_price_of_product = product['value'].mean()"
   ]
  },
  {
   "cell_type": "code",
   "execution_count": 25,
   "id": "6ddd9330",
   "metadata": {},
   "outputs": [
    {
     "data": {
      "text/plain": [
       "3           YmVhdXR5IGFuZCBwZXJzb25hbCBjYXJl\n",
       "7           Q2xvdGhpbmcgYW5kIEFjY2Vzc29yaWVz\n",
       "8           Q2xvdGhpbmcgYW5kIEFjY2Vzc29yaWVz\n",
       "10                          QXJ0IHN1cHBsaWVz\n",
       "11                a2l0Y2hpbmcgYW5kIGRpbmluZw\n",
       "                          ...               \n",
       "11764514    Q2xvdGhpbmcgYW5kIEFjY2Vzc29yaWVz\n",
       "11764515    Q2xvdGhpbmcgYW5kIEFjY2Vzc29yaWVz\n",
       "11764529    YmVhdXR5IGFuZCBwZXJzb25hbCBjYXJl\n",
       "11764531    Q2xvdGhpbmcgYW5kIEFjY2Vzc29yaWVz\n",
       "11764536    Q2xvdGhpbmcgYW5kIEFjY2Vzc29yaWVz\n",
       "Name: category, Length: 2527902, dtype: object"
      ]
     },
     "execution_count": 25,
     "metadata": {},
     "output_type": "execute_result"
    }
   ],
   "source": [
    "product[product['value'] >= average_price_of_product]['category']"
   ]
  },
  {
   "cell_type": "code",
   "execution_count": 26,
   "id": "a32a3114",
   "metadata": {},
   "outputs": [
    {
     "data": {
      "text/plain": [
       "2527902"
      ]
     },
     "execution_count": 26,
     "metadata": {},
     "output_type": "execute_result"
    }
   ],
   "source": [
    "product[product['value'] >= average_price_of_product]['category'].count()"
   ]
  },
  {
   "cell_type": "code",
   "execution_count": 27,
   "id": "54b9f59a",
   "metadata": {},
   "outputs": [],
   "source": [
    "import seaborn as sns\n",
    "import matplotlib.pyplot as plt\n",
    "%matplotlib inline"
   ]
  },
  {
   "cell_type": "code",
   "execution_count": 32,
   "id": "187a5102",
   "metadata": {},
   "outputs": [
    {
     "data": {
      "text/plain": [
       "<AxesSubplot:xlabel='value', ylabel='Density'>"
      ]
     },
     "execution_count": 32,
     "metadata": {},
     "output_type": "execute_result"
    },
    {
     "data": {
      "image/png": "[encoded data removed]",
      "text/plain": [
       "<Figure size 432x288 with 1 Axes>"
      ]
     },
     "metadata": {
      "needs_background": "light"
     },
     "output_type": "display_data"
    }
   ],
   "source": [
    "plt.subplots(figsize=(20,20))\n",
    "sns.distplot(product['value'])"
   ]
  },
  {
   "cell_type": "code",
   "execution_count": 39,
   "id": "ba95ac90",
   "metadata": {},
   "outputs": [
    {
     "data": {
      "text/plain": [
       "<AxesSubplot:xlabel='category', ylabel='count'>"
      ]
     },
     "execution_count": 39,
     "metadata": {},
     "output_type": "execute_result"
    },
    {
     "data": {
      "image/png": "[encoded data removed]",
      "text/plain": [
       "<Figure size 1440x1440 with 1 Axes>"
      ]
     },
     "metadata": {
      "needs_background": "light"
     },
     "output_type": "display_data"
    }
   ],
   "source": [
    "plt.subplots(figsize=(20,20))\n",
    "plt.tight_layout()\n",
    "             \n",
    "sns.countplot(x='category',data=product)"
   ]
  },
  {
   "cell_type": "code",
   "execution_count": 40,
   "id": "21ec14a0",
   "metadata": {},
   "outputs": [
    {
     "data": {
      "text/plain": [
       "<AxesSubplot:xlabel='product_type', ylabel='count'>"
      ]
     },
     "execution_count": 40,
     "metadata": {},
     "output_type": "execute_result"
    },
    {
     "data": {
      "image/png": "[encoded data removed]",
      "text/plain": [
       "<Figure size 1440x1440 with 1 Axes>"
      ]
     },
     "metadata": {
      "needs_background": "light"
     },
     "output_type": "display_data"
    }
   ],
   "source": [
    "plt.subplots(figsize=(20,20))\n",
    "plt.tight_layout()\n",
    "sns.countplot(x='product_type',data=product)"
   ]
  },
  {
   "cell_type": "code",
   "execution_count": 43,
   "id": "e2bd3d8f",
   "metadata": {},
   "outputs": [
    {
     "data": {
      "text/plain": [
       "<AxesSubplot:xlabel='product_type', ylabel='category'>"
      ]
     },
     "execution_count": 43,
     "metadata": {},
     "output_type": "execute_result"
    },
    {
     "data": {
      "image/png": "[encoded data removed]",
      "text/plain": [
       "<Figure size 1440x1440 with 1 Axes>"
      ]
     },
     "metadata": {
      "needs_background": "light"
     },
     "output_type": "display_data"
    }
   ],
   "source": [
    "plt.subplots(figsize=(20,20))\n",
    "sns.scatterplot(x ='product_type', y = 'category', data=product )"
   ]
  },
  {
   "cell_type": "code",
   "execution_count": null,
   "id": "56da7fdd",
   "metadata": {},
   "outputs": [],
   "source": []
  }
 ],
 "metadata": {
  "kernelspec": {
   "display_name": "Python 3 (ipykernel)",
   "language": "python",
   "name": "python3"
  },
  "language_info": {
   "codemirror_mode": {
    "name": "ipython",
    "version": 3
   },
   "file_extension": ".py",
   "mimetype": "text/x-python",
   "name": "python",
   "nbconvert_exporter": "python",
   "pygments_lexer": "ipython3",
   "version": "3.9.12"
  }
 },
 "nbformat": 4,
 "nbformat_minor": 5
}
